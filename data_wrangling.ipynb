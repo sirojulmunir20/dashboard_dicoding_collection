{
  "nbformat": 4,
  "nbformat_minor": 0,
  "metadata": {
    "colab": {
      "provenance": []
    },
    "kernelspec": {
      "name": "python3",
      "display_name": "Python 3"
    },
    "language_info": {
      "name": "python"
    }
  },
  "cells": [
    {
      "cell_type": "code",
      "execution_count": null,
      "metadata": {
        "id": "3V0btsl12ZP2"
      },
      "outputs": [],
      "source": [
        "import numpy as np\n",
        "import pandas as pd\n",
        "import matplotlib.pyplot as plt\n",
        "import seaborn as sns"
      ]
    },
    {
      "cell_type": "markdown",
      "source": [
        "# Tabel Customers\n",
        "\n",
        "\n",
        "\n"
      ],
      "metadata": {
        "id": "SgCrglcQ_93n"
      }
    },
    {
      "cell_type": "code",
      "source": [
        "customers_df = pd.read_csv(\"https://raw.githubusercontent.com/dicodingacademy/dicoding_dataset/main/DicodingCollection/customers.csv\")\n",
        "customers_df.head()"
      ],
      "metadata": {
        "id": "WWShDjXY22Aw"
      },
      "execution_count": null,
      "outputs": []
    },
    {
      "cell_type": "code",
      "source": [
        "customers_df.info()"
      ],
      "metadata": {
        "id": "_J7Er0xS8mYg"
      },
      "execution_count": null,
      "outputs": []
    },
    {
      "cell_type": "markdown",
      "source": [
        "**Terdapat missing values pada kolom gender (terdapat sedikit perbedaan pada jumlah data pada kolom gender)**\n"
      ],
      "metadata": {
        "id": "iigvYJcs9TZs"
      }
    },
    {
      "cell_type": "code",
      "source": [
        "# menampilkan informasi terkait jumlah missing values\n",
        "customers_df.isna().sum()"
      ],
      "metadata": {
        "id": "PUnK48s291OO"
      },
      "execution_count": null,
      "outputs": []
    },
    {
      "cell_type": "code",
      "source": [
        "# Memeriksa duplikasi data\n",
        "print(\"Jumlah duplikasi: \", customers_df.duplicated().sum())"
      ],
      "metadata": {
        "id": "h_P9BQkT-Two"
      },
      "execution_count": null,
      "outputs": []
    },
    {
      "cell_type": "code",
      "source": [
        "# Menghapus duplikat\n",
        "customers_df.drop_duplicates(inplace=True)"
      ],
      "metadata": {
        "id": "X9avEL07GSmV"
      },
      "execution_count": null,
      "outputs": []
    },
    {
      "cell_type": "code",
      "source": [
        "print(\"Jumlah duplikasi: \", customers_df.duplicated().sum())"
      ],
      "metadata": {
        "id": "vda6R6J9GqXI"
      },
      "execution_count": null,
      "outputs": []
    },
    {
      "cell_type": "code",
      "source": [
        "# melihat data yang mengandung missing value\n",
        "customers_df[customers_df.gender.isna()]"
      ],
      "metadata": {
        "id": "RAaJ73koKAnO"
      },
      "execution_count": null,
      "outputs": []
    },
    {
      "cell_type": "code",
      "source": [
        "# Menangani missing value dengan metode imputation\n",
        "# mengidentifikasi nilai yang dominan\n",
        "customers_df.gender.value_counts()"
      ],
      "metadata": {
        "id": "RgA73Kb-KSZC"
      },
      "execution_count": null,
      "outputs": []
    },
    {
      "cell_type": "markdown",
      "source": [
        "*diketahui bahwa nilai yang paling dominan dalam kolom gender ialah “Prefer not to say”*"
      ],
      "metadata": {
        "id": "IK-YbL_3LVgp"
      }
    },
    {
      "cell_type": "code",
      "source": [
        "# Mengganti missing value dengan “Prefer not to say”\n",
        "customers_df.fillna(value=\"Prefer not to say\", inplace=True)"
      ],
      "metadata": {
        "id": "LZ7M1GkvLIaY"
      },
      "execution_count": null,
      "outputs": []
    },
    {
      "cell_type": "code",
      "source": [
        "customers_df.isna().sum()"
      ],
      "metadata": {
        "id": "IMkrSvcwLyrr"
      },
      "execution_count": null,
      "outputs": []
    },
    {
      "cell_type": "code",
      "source": [
        "# memeriksa parameter statistik\n",
        "customers_df.describe()"
      ],
      "metadata": {
        "id": "kbRnnMNz-soc"
      },
      "execution_count": null,
      "outputs": []
    },
    {
      "cell_type": "markdown",
      "source": [
        "**Terdapat keanehan pada nilai *maksimum* yang terdapat pada kolom age, ini kemungkinan besar terjadi karena adanya *inaccurate value* pada kolom tersebut.**"
      ],
      "metadata": {
        "id": "Cwllgf4w_c_E"
      }
    },
    {
      "cell_type": "code",
      "source": [
        "# melihat data baris data yang mengandung inaccurate value pada kolom age\n",
        "customers_df[customers_df.age == customers_df.age.max()]"
      ],
      "metadata": {
        "id": "p4XlRlQ3JSKX"
      },
      "execution_count": null,
      "outputs": []
    },
    {
      "cell_type": "markdown",
      "source": [
        "*kita bisa berasumsi bahwa inaccurate value tersebut terjadi karena human error sehingga kelebihan memasukkan nilai nol. *"
      ],
      "metadata": {
        "id": "2vXpL-TKMy-8"
      }
    },
    {
      "cell_type": "code",
      "source": [
        "customers_df.age.replace(customers_df.age.max(), 70, inplace=True)"
      ],
      "metadata": {
        "id": "dkUPGGVWMgZ_"
      },
      "execution_count": null,
      "outputs": []
    },
    {
      "cell_type": "code",
      "source": [
        "customers_df[customers_df.age == customers_df.age.max()]"
      ],
      "metadata": {
        "id": "sX6BuJF6NDAA"
      },
      "execution_count": null,
      "outputs": []
    },
    {
      "cell_type": "code",
      "source": [
        "customers_df.age.replace(customers_df.age.max(), 50, inplace=True)"
      ],
      "metadata": {
        "id": "rDPJyKtoNt8i"
      },
      "execution_count": null,
      "outputs": []
    },
    {
      "cell_type": "code",
      "source": [
        "customers_df.describe()"
      ],
      "metadata": {
        "id": "JmPDwM-yN1_-"
      },
      "execution_count": null,
      "outputs": []
    },
    {
      "cell_type": "markdown",
      "source": [
        "# Eksplorasi Data *customers_df*"
      ],
      "metadata": {
        "id": "WbUw7NWOF2M7"
      }
    },
    {
      "cell_type": "code",
      "source": [
        "customers_df.describe(include=\"all\")"
      ],
      "metadata": {
        "id": "Vge-5nL_GLT2"
      },
      "execution_count": null,
      "outputs": []
    },
    {
      "cell_type": "code",
      "source": [
        "# Melihat demografi pelanggan berdasarkan jenis kelamin (gender).\n",
        "customers_df.groupby(by=\"gender\").agg({\n",
        "    \"customer_id\": \"nunique\",\n",
        "    \"age\": [\"max\", \"min\", \"mean\", \"std\"]\n",
        "})"
      ],
      "metadata": {
        "id": "ma3WaH3GGVH9"
      },
      "execution_count": null,
      "outputs": []
    },
    {
      "cell_type": "code",
      "source": [
        "# melihat persebaran jumlah pelanggan berdasarkan kota (city).\n",
        "customers_df.groupby(by=\"city\").customer_id.nunique().sort_values(ascending=False)"
      ],
      "metadata": {
        "id": "FM0z1_KuIcOh"
      },
      "execution_count": null,
      "outputs": []
    },
    {
      "cell_type": "code",
      "source": [
        "# melihat persebaran jumlah pelanggan berdasarkan negara bagian (state).\n",
        "customers_df.groupby(by=\"state\").customer_id.nunique().sort_values(ascending=False)"
      ],
      "metadata": {
        "id": "LOYkeMB8JBhI"
      },
      "execution_count": null,
      "outputs": []
    },
    {
      "cell_type": "markdown",
      "source": [
        "# Tabel Orders\n"
      ],
      "metadata": {
        "id": "pR_WjtmrAb67"
      }
    },
    {
      "cell_type": "code",
      "source": [
        "orders_df = pd.read_csv(\"https://raw.githubusercontent.com/dicodingacademy/dicoding_dataset/main/DicodingCollection/orders.csv\")\n",
        "orders_df.head()"
      ],
      "metadata": {
        "id": "Uu7Zht4F3iUj"
      },
      "execution_count": null,
      "outputs": []
    },
    {
      "cell_type": "code",
      "source": [
        "orders_df.info()"
      ],
      "metadata": {
        "id": "DSS3w9h58thw"
      },
      "execution_count": null,
      "outputs": []
    },
    {
      "cell_type": "markdown",
      "source": [
        "***terdapat kesalahan tipe data untuk kolom order_date & delivery_date. Harusnya direpresentasikan sebagai tipe data datetime, bukan object (ini digunakan untuk tipe data string) ***"
      ],
      "metadata": {
        "id": "eN_L1r0CBCL7"
      }
    },
    {
      "cell_type": "code",
      "source": [
        "# mengganti tipe data pada kolom order_date & delivery_date menjadi datetime\n",
        "datetime_columns = [\"order_date\", \"delivery_date\"]\n",
        "\n",
        "for column in datetime_columns:\n",
        "  orders_df[column] = pd.to_datetime(orders_df[column])"
      ],
      "metadata": {
        "id": "hrVleCBBOV-A"
      },
      "execution_count": null,
      "outputs": []
    },
    {
      "cell_type": "code",
      "source": [
        "orders_df.info()"
      ],
      "metadata": {
        "id": "EKNWz1ZPOoj6"
      },
      "execution_count": null,
      "outputs": []
    },
    {
      "cell_type": "code",
      "source": [
        "# memeriksa duplikasi dan ringkasan parameter statistik\n",
        "print(\"Jumlah duplikasi: \",orders_df.duplicated().sum())\n",
        "orders_df.describe()"
      ],
      "metadata": {
        "id": "Z36DibyzBadg"
      },
      "execution_count": null,
      "outputs": []
    },
    {
      "cell_type": "markdown",
      "source": [
        "# Eksplorasi Data orders_df"
      ],
      "metadata": {
        "id": "lzoZ1G0pJpCa"
      }
    },
    {
      "cell_type": "code",
      "source": [
        "delivery_time = orders_df[\"delivery_date\"] - orders_df[\"order_date\"]\n",
        "delivery_time = delivery_time.apply(lambda x: x.total_seconds())\n",
        "orders_df[\"delivery_time\"] = round(delivery_time/86400)\n",
        "orders_df.head()"
      ],
      "metadata": {
        "id": "Gr9lY5qXJvE3"
      },
      "execution_count": null,
      "outputs": []
    },
    {
      "cell_type": "code",
      "source": [
        "orders_df.describe(include=\"all\")"
      ],
      "metadata": {
        "id": "aBheMDvKK5S6"
      },
      "execution_count": null,
      "outputs": []
    },
    {
      "cell_type": "markdown",
      "source": [
        "*Berdasarkan hasil tersebut, dapat diketahui bahwa rata-rata waktu pengiriman sebesar 14 hari dengan nilai maksimum sebesar 27 hari dan nilai minimum sebesar 1 hari.*"
      ],
      "metadata": {
        "id": "f1WYwi4WLJc1"
      }
    },
    {
      "cell_type": "markdown",
      "source": [
        "# Eksplorasi Data orders_df dan customers_df"
      ],
      "metadata": {
        "id": "VKWdlLiELgO5"
      }
    },
    {
      "cell_type": "code",
      "source": [
        "# mengidentifikasi pelanggan yang belum pernah melakukan order\n",
        "customer_id_in_orders_df =  orders_df.customer_id.tolist()\n",
        "customers_df[\"status\"] = customers_df[\"customer_id\"].apply(lambda x: \"Active\" if x in customer_id_in_orders_df else \"Non Active\")\n",
        "customers_df.sample(5)"
      ],
      "metadata": {
        "id": "a1qB9ccKLjBv"
      },
      "execution_count": null,
      "outputs": []
    },
    {
      "cell_type": "code",
      "source": [
        "# jumlah pelanggan yang berstatus “Active” dan “Non Active”\n",
        "customers_df.groupby(by=\"status\").customer_id.count()"
      ],
      "metadata": {
        "id": "9OtesFfmNuBh"
      },
      "execution_count": null,
      "outputs": []
    },
    {
      "cell_type": "markdown",
      "source": [
        "*terlihat pada table pivot diatas, terdapat sekitar 30% pelanggan yang belum melakukan order*"
      ],
      "metadata": {
        "id": "DHHNo6uTOppC"
      }
    },
    {
      "cell_type": "code",
      "source": [
        "# merge table cutomers dengan table order\n",
        "orders_customers_df = pd.merge(\n",
        "    left=orders_df,\n",
        "    right=customers_df,\n",
        "    how=\"left\",\n",
        "    left_on=\"customer_id\",\n",
        "    right_on=\"customer_id\"\n",
        ")\n",
        "orders_customers_df.head()"
      ],
      "metadata": {
        "id": "7J8L8TIlOTKK"
      },
      "execution_count": null,
      "outputs": []
    },
    {
      "cell_type": "code",
      "source": [
        "# pivot table untuk memperoleh informasi terkait jumlah order berdasarkan kota\n",
        "orders_customers_df.groupby(by=\"city\").order_id.nunique().sort_values(ascending=False).reset_index().head(10)"
      ],
      "metadata": {
        "id": "lDpsT11ePtiz"
      },
      "execution_count": null,
      "outputs": []
    },
    {
      "cell_type": "code",
      "source": [
        "# Jumlah order berdasarkan state\n",
        "orders_customers_df.groupby(by=\"state\").order_id.nunique().sort_values(ascending=False)"
      ],
      "metadata": {
        "id": "m9yRtb2NQgWL"
      },
      "execution_count": null,
      "outputs": []
    },
    {
      "cell_type": "code",
      "source": [
        "# Jumlah order berdasarkan gender\n",
        "orders_customers_df.groupby(by=\"gender\").order_id.nunique().sort_values(ascending=False)"
      ],
      "metadata": {
        "id": "PBu1qZliQ1Kn"
      },
      "execution_count": null,
      "outputs": []
    },
    {
      "cell_type": "code",
      "source": [
        "# Jumlah order berdasarkan kelompok usia\n",
        "orders_customers_df[\"age_group\"] = orders_customers_df.age.apply(lambda x: \"Youth\" if x <= 24 else (\"Seniors\" if x > 64 else \"Adults\"))\n",
        "orders_customers_df.groupby(by=\"age_group\").order_id.nunique().sort_values(ascending=False)"
      ],
      "metadata": {
        "id": "6hx03bXRRHWd"
      },
      "execution_count": null,
      "outputs": []
    },
    {
      "cell_type": "markdown",
      "source": [
        "# Tabel Product"
      ],
      "metadata": {
        "id": "CTQArYMlCZHf"
      }
    },
    {
      "cell_type": "code",
      "source": [
        "product_df = pd.read_csv(\"https://raw.githubusercontent.com/dicodingacademy/dicoding_dataset/main/DicodingCollection/products.csv\")\n",
        "product_df.head()"
      ],
      "metadata": {
        "id": "Y7_i4G6V3xlq"
      },
      "execution_count": null,
      "outputs": []
    },
    {
      "cell_type": "code",
      "source": [
        "product_df.info()"
      ],
      "metadata": {
        "id": "DzjlQtjACiet"
      },
      "execution_count": null,
      "outputs": []
    },
    {
      "cell_type": "code",
      "source": [
        "# Memeriksa duplikasi dan ringkasan parameter statistik\n",
        "print(\"Jumlah duplikasi: \", product_df.duplicated().sum())\n",
        "product_df.describe()"
      ],
      "metadata": {
        "id": "_5daUAMOC0xV"
      },
      "execution_count": null,
      "outputs": []
    },
    {
      "cell_type": "code",
      "source": [
        "product_df.drop_duplicates(inplace=True)"
      ],
      "metadata": {
        "id": "-ywz46QsOyNS"
      },
      "execution_count": null,
      "outputs": []
    },
    {
      "cell_type": "code",
      "source": [
        "print(\"Jumlah duplikasi: \", product_df.duplicated().sum())"
      ],
      "metadata": {
        "id": "K42x1JkIPGHV"
      },
      "execution_count": null,
      "outputs": []
    },
    {
      "cell_type": "markdown",
      "source": [
        "# Tabel Sales\n"
      ],
      "metadata": {
        "id": "qMZNvnA9D0WC"
      }
    },
    {
      "cell_type": "code",
      "source": [
        "sales_df = pd.read_csv(\"https://raw.githubusercontent.com/dicodingacademy/dicoding_dataset/main/DicodingCollection/sales.csv\")\n",
        "sales_df.head()"
      ],
      "metadata": {
        "id": "667PumA_4A_w"
      },
      "execution_count": null,
      "outputs": []
    },
    {
      "cell_type": "code",
      "source": [
        "sales_df.info()"
      ],
      "metadata": {
        "id": "NwTmoE7V8PdW"
      },
      "execution_count": null,
      "outputs": []
    },
    {
      "cell_type": "markdown",
      "source": [
        "**terdapat keanehan pada jumlah data pada kolom total_price. Hal ini menunjukkan adanya missing value pada kolom tersebut. **"
      ],
      "metadata": {
        "id": "vl7t6uRHEL8I"
      }
    },
    {
      "cell_type": "code",
      "source": [
        "# Cek jumlah missing value\n",
        "sales_df.isna().sum()"
      ],
      "metadata": {
        "id": "fwoiuKIKD77j"
      },
      "execution_count": null,
      "outputs": []
    },
    {
      "cell_type": "code",
      "source": [
        "# melihat baris data yang mengandung missing value pada kolom total_price.\n",
        "sales_df[sales_df.total_price.isna()]"
      ],
      "metadata": {
        "id": "wlcZHjm3Pbo3"
      },
      "execution_count": null,
      "outputs": []
    },
    {
      "cell_type": "markdown",
      "source": [
        "***kita menemukan bahwa nilai total_price merupakan hasil perkalian antara price_per_unit dan quantity. Kita dapat menggunakan pola ini untuk menangani missing value pada kolom total_price. ***"
      ],
      "metadata": {
        "id": "g0Aq1ie-QKC7"
      }
    },
    {
      "cell_type": "code",
      "source": [
        "sales_df[\"total_price\"] = sales_df[\"price_per_unit\"] * sales_df[\"quantity\"]"
      ],
      "metadata": {
        "id": "jTf-SaTGQIhS"
      },
      "execution_count": null,
      "outputs": []
    },
    {
      "cell_type": "code",
      "source": [
        "# memeriksa kembali jumlah missing value pada sales_df.\n",
        "sales_df.isna().sum()"
      ],
      "metadata": {
        "id": "i0zHzv0hQa25"
      },
      "execution_count": null,
      "outputs": []
    },
    {
      "cell_type": "code",
      "source": [
        "# memeriksa duplikasi dan ringkasan parameter statistik\n",
        "print(\"Jumlah duplikasi: \", sales_df.duplicated().sum())\n",
        "sales_df.describe()"
      ],
      "metadata": {
        "id": "ekcIOAJvEbn5"
      },
      "execution_count": null,
      "outputs": []
    },
    {
      "cell_type": "markdown",
      "source": [
        "# Eksplorasi Data product_df dan sales_df"
      ],
      "metadata": {
        "id": "hVgCMRgqSJuu"
      }
    },
    {
      "cell_type": "code",
      "source": [
        "product_df.describe(include=\"all\")"
      ],
      "metadata": {
        "id": "y5lbQHw-SHXt"
      },
      "execution_count": null,
      "outputs": []
    },
    {
      "cell_type": "markdown",
      "source": [
        "*dilihat bahwa harga barang yang dijual berkisar antara 90 hingga 119 dolar.*"
      ],
      "metadata": {
        "id": "tYgVAKEzSzaA"
      }
    },
    {
      "cell_type": "code",
      "source": [
        "sales_df.describe(include=\"all\")"
      ],
      "metadata": {
        "id": "s5odU0YpSdWM"
      },
      "execution_count": null,
      "outputs": []
    },
    {
      "cell_type": "markdown",
      "source": [
        "*dalam setiap transaksi, pelanggan paling banyak membeli 3 buah item dalam satu jenis produk dengan total harga sebesar 357 dolar.*"
      ],
      "metadata": {
        "id": "BpP7bQIHS6lh"
      }
    },
    {
      "cell_type": "code",
      "source": [
        "# Melihat produk yang memiliki harga termahal dan terendah\n",
        "product_df.sort_values(by=\"price\", ascending=False)"
      ],
      "metadata": {
        "id": "ACcsjAjcSgdt"
      },
      "execution_count": null,
      "outputs": []
    },
    {
      "cell_type": "code",
      "source": [
        "# pivot table untuk mencari informasi terkait produk berdasarkan tipe\n",
        "product_df.groupby(by=\"product_type\").agg({\n",
        "    \"product_id\": \"nunique\",\n",
        "    \"quantity\": \"sum\",\n",
        "    \"price\":  [\"min\", \"max\"]\n",
        "})"
      ],
      "metadata": {
        "id": "9maA-VQZTvtv"
      },
      "execution_count": null,
      "outputs": []
    },
    {
      "cell_type": "code",
      "source": [
        "# pivot table untuk mencari informasi terkait produk berdasarkan nama produknya.\n",
        "product_df.groupby(by=\"product_name\").agg({\n",
        "    \"product_id\": \"nunique\",\n",
        "    \"quantity\": \"sum\",\n",
        "    \"price\": [\"min\", \"max\"]\n",
        "})"
      ],
      "metadata": {
        "id": "zoMfVSfUUVOZ"
      },
      "execution_count": null,
      "outputs": []
    },
    {
      "cell_type": "code",
      "source": [
        "# Melihat produk terlaris dengan menyatukan (merge) tabel product_df dan sales_df\n",
        "sales_product_df = pd.merge(\n",
        "    left=sales_df,\n",
        "    right=product_df,\n",
        "    how=\"left\",\n",
        "    left_on=\"product_id\",\n",
        "    right_on=\"product_id\"\n",
        ")\n",
        "sales_product_df.head()"
      ],
      "metadata": {
        "id": "bkih8SblUqgM"
      },
      "execution_count": null,
      "outputs": []
    },
    {
      "cell_type": "code",
      "source": [
        "# melihat informasi penjualan produk berdasarkan tipenya\n",
        "sales_product_df.groupby(by=\"product_type\").agg({\n",
        "    \"sales_id\": \"nunique\",\n",
        "    \"quantity_x\": \"sum\",\n",
        "    \"total_price\": \"sum\"\n",
        "})"
      ],
      "metadata": {
        "id": "hk07zCwMVZfn"
      },
      "execution_count": null,
      "outputs": []
    },
    {
      "cell_type": "markdown",
      "source": [
        "*Trousers merupakan tipe produk yang paling laris. Akan tetapi, jika dilihat berdasarkan revenue yang diterima, Jacket merupakan tipe produk yang paling banyak menyumbang revenue perusahaan.*"
      ],
      "metadata": {
        "id": "kFbRkQF4VvHz"
      }
    },
    {
      "cell_type": "code",
      "source": [
        "# melihat informasi penjualan produk berdasarkan nama product\n",
        "sales_product_df.groupby(by=\"product_name\").agg({\n",
        "    \"sales_id\": \"nunique\",\n",
        "    \"quantity_x\": \"sum\",\n",
        "    \"total_price\": \"sum\"\n",
        "}).sort_values(by=\"total_price\", ascending=False)"
      ],
      "metadata": {
        "id": "Tp3KH4arVglH"
      },
      "execution_count": null,
      "outputs": []
    },
    {
      "cell_type": "markdown",
      "source": [
        "*diketahui bahwa produk Denim merupakan produk yang paling laris dan juga paling banyak menyumbang revenue terhadap perusahaan.*  "
      ],
      "metadata": {
        "id": "piU_YOu7WVB6"
      }
    },
    {
      "cell_type": "markdown",
      "source": [
        "# Eksplorasi Data all_df"
      ],
      "metadata": {
        "id": "RChocTG2WjKz"
      }
    },
    {
      "cell_type": "code",
      "source": [
        "# melihat pola pembelian berdasarkan demografi pelanggan.\n",
        "all_df = pd.merge(\n",
        "    left=sales_product_df,\n",
        "    right=orders_customers_df,\n",
        "    how=\"left\",\n",
        "    left_on=\"order_id\",\n",
        "    right_on=\"order_id\"\n",
        ")\n",
        "all_df.head()"
      ],
      "metadata": {
        "id": "_JK4_vX5WpsN"
      },
      "execution_count": null,
      "outputs": []
    },
    {
      "cell_type": "code",
      "source": [
        "# Melihat preferensi pembelian berdasarkan state pelanggan dan tipe produk\n",
        "all_df.groupby(by=[\"state\", \"product_type\"]).agg({\n",
        "    \"quantity_x\": \"sum\",\n",
        "    \"total_price\": \"sum\"\n",
        "})"
      ],
      "metadata": {
        "id": "wgSBPqnEXIWp"
      },
      "execution_count": null,
      "outputs": []
    },
    {
      "cell_type": "code",
      "source": [
        "# Melihat selera tipe produk pelanggan berdasarkan gender.\n",
        "all_df.groupby(by=[\"gender\", \"product_type\"]).agg({\n",
        "    \"quantity_x\": \"sum\",\n",
        "    \"total_price\": \"sum\"\n",
        "})"
      ],
      "metadata": {
        "id": "3m74soOoXOzJ"
      },
      "execution_count": null,
      "outputs": []
    },
    {
      "cell_type": "code",
      "source": [
        "# Melihat selera tipe produk pelanggan berdasarkan kelompok usia.\n",
        "all_df.groupby(by=[\"age_group\", \"product_type\"]).agg({\n",
        "    \"quantity_x\": \"sum\",\n",
        "    \"total_price\": \"sum\"\n",
        "})"
      ],
      "metadata": {
        "id": "Scked9CBX7Vd"
      },
      "execution_count": null,
      "outputs": []
    },
    {
      "cell_type": "markdown",
      "source": [
        "# **Data Visualization **"
      ],
      "metadata": {
        "id": "-9RD4xJqWhSR"
      }
    },
    {
      "cell_type": "code",
      "source": [
        "# mengubah frekuensi data untuk memperoleh informasi terkait jumlah order dan total revenue yang diperoleh setiap bulannya.\n",
        "monthly_orders_df = all_df.resample(rule='M', on='order_date').agg({\n",
        "    \"order_id\": \"nunique\",\n",
        "    \"total_price\": \"sum\"\n",
        "})\n",
        "monthly_orders_df.index = monthly_orders_df.index.strftime('%Y-%m')\n",
        "monthly_orders_df = monthly_orders_df.reset_index()\n",
        "monthly_orders_df.rename(columns={\n",
        "    \"order_id\": \"order_count\",\n",
        "    \"total_price\": \"revenue\"\n",
        "}, inplace=True)\n",
        "monthly_orders_df.head()"
      ],
      "metadata": {
        "id": "UOJ5mJhxWeHP"
      },
      "execution_count": null,
      "outputs": []
    },
    {
      "cell_type": "markdown",
      "source": [
        "*melakukan resample data order_date menjadi bulanan serta melakukan agregasi untuk memperoleh informasi terkait jumlah order dan total revenue yang diperoleh tiap bulan.*"
      ],
      "metadata": {
        "id": "goKIZ-NrXFA5"
      }
    },
    {
      "cell_type": "code",
      "source": [
        "# jumlah order per bulan.\n",
        "monthly_orders_df = all_df.resample(rule='M', on='order_date').agg({\n",
        "    \"order_id\": \"nunique\",\n",
        "    \"total_price\": \"sum\"\n",
        "})\n",
        "monthly_orders_df.index = monthly_orders_df.index.strftime('%B') #mengubah format order date menjadi nama bulan\n",
        "\n",
        "monthly_orders_df = monthly_orders_df.reset_index()\n",
        "monthly_orders_df.rename(columns={\n",
        "    \"order_id\": \"order_count\",\n",
        "    \"total_price\": \"revenue\"\n",
        "}, inplace=True)\n",
        "\n",
        "plt.figure(figsize=(10, 5))\n",
        "plt.plot(monthly_orders_df[\"order_date\"], monthly_orders_df[\"order_count\"], marker='o', linewidth=2, color=\"#9f44ee\")\n",
        "plt.title(\"Number of Orders per Month (2021)\", loc=\"center\", fontsize=20)\n",
        "plt.xticks(fontsize=10)\n",
        "plt.yticks(fontsize=10)\n",
        "plt.show()"
      ],
      "metadata": {
        "id": "azshIhytXaCu"
      },
      "execution_count": null,
      "outputs": []
    },
    {
      "cell_type": "code",
      "source": [
        "# Total revenue per bulan\n",
        "plt.figure(figsize=(10, 5))\n",
        "plt.plot(\n",
        "    monthly_orders_df[\"order_date\"],\n",
        "    monthly_orders_df[\"revenue\"],\n",
        "    marker='o',\n",
        "    linewidth=2,\n",
        "    color=\"#9f44ee\"\n",
        ")\n",
        "plt.title(\"Total Revenue per Month (2021)\", loc=\"center\", fontsize=20)\n",
        "plt.xticks(fontsize=10)\n",
        "plt.yticks(fontsize=10)\n",
        "plt.show()"
      ],
      "metadata": {
        "id": "5UuN7en4Z3BG"
      },
      "execution_count": null,
      "outputs": []
    },
    {
      "cell_type": "markdown",
      "source": [
        "*kita harus mencari tahu penyebab terjadinya penurunan tersebut dengan mempertimbangkan banyak hal, seperti keberadaan kompetitor, campaign, dll.*"
      ],
      "metadata": {
        "id": "JAXSY_2CacjJ"
      }
    },
    {
      "cell_type": "code",
      "source": [
        "# Produk Apa yang Paling Banyak dan Paling Sedikit Terjual?\n",
        "# DataFrame baru guna menampung informasi terkait jumlah penjualan tiap produk.\n",
        "sum_order_items_df = all_df.groupby(\"product_name\").quantity_x.sum().sort_values(ascending=False).reset_index()\n",
        "sum_order_items_df.head(15)"
      ],
      "metadata": {
        "id": "1sHpu-5ZaSVN"
      },
      "execution_count": null,
      "outputs": []
    },
    {
      "cell_type": "code",
      "source": [
        "fig, ax = plt.subplots(nrows=1, ncols=2, figsize=(24, 6))\n",
        "\n",
        "colors = [\"#72BCD4\", \"#D3D3D3\", \"#D3D3D3\", \"#D3D3D3\", \"#D3D3D3\"]\n",
        "\n",
        "sns.barplot(x=\"quantity_x\", y=\"product_name\", data=sum_order_items_df.head(5), palette=colors, ax=ax[0])\n",
        "ax[0].set_ylabel(None)\n",
        "ax[0].set_xlabel(None)\n",
        "ax[0].set_title(\"Best Performing Product\", loc=\"center\", fontsize=15)\n",
        "ax[0].tick_params(axis ='y', labelsize=12)\n",
        "\n",
        "sns.barplot(x=\"quantity_x\", y=\"product_name\", data=sum_order_items_df.sort_values(by=\"quantity_x\", ascending=True).head(5), palette=colors, ax=ax[1])\n",
        "ax[1].set_ylabel(None)\n",
        "ax[1].set_xlabel(None)\n",
        "ax[1].invert_xaxis()\n",
        "ax[1].yaxis.set_label_position(\"right\")\n",
        "ax[1].yaxis.tick_right()\n",
        "ax[1].set_title(\"Worst Performing Product\", loc=\"center\", fontsize=15)\n",
        "ax[1].tick_params(axis='y', labelsize=12)\n",
        "\n",
        "plt.suptitle(\"Best and Worst Performing Product by Number of Sales\", fontsize=20)\n",
        "plt.show()"
      ],
      "metadata": {
        "id": "pI2xZONTbPjL"
      },
      "execution_count": null,
      "outputs": []
    },
    {
      "cell_type": "markdown",
      "source": [
        "*Berdasarkan visualisasi di atas, Anda dapat melihat bahwa produk Denim merupakan produk yang paling laris. Kontras dengan hal tersebut, produk Mandarin Collar merupakan produk yang paling sedikit terjual.*  "
      ],
      "metadata": {
        "id": "q7KuMMvab-xl"
      }
    },
    {
      "cell_type": "code",
      "source": [
        "# Bagaimana Demografi Pelanggan yang Kita Miliki?\n",
        "# Berdasarkan gender\n",
        "bygender_df = all_df.groupby(by=\"gender\").customer_id.nunique().reset_index()\n",
        "bygender_df.rename(columns={\n",
        "    \"customer_id\": \"customer_count\"\n",
        "}, inplace=True)\n",
        "\n",
        "plt.figure(figsize=(10, 5))\n",
        "\n",
        "sns.barplot(\n",
        "    y=\"customer_count\",\n",
        "    x=\"gender\",\n",
        "    data=bygender_df.sort_values(by=\"customer_count\", ascending=False),\n",
        "    palette=colors\n",
        ")\n",
        "plt.title(\"Number of Customer by Gender\", loc=\"center\", fontsize=15)\n",
        "plt.ylabel(None)\n",
        "plt.xlabel(None)\n",
        "plt.tick_params(axis='x', labelsize=12)\n",
        "plt.show()"
      ],
      "metadata": {
        "id": "tRgsYOtycKwD"
      },
      "execution_count": null,
      "outputs": []
    },
    {
      "cell_type": "code",
      "source": [
        "# Berdasarkan age\n",
        "byage_df = all_df.groupby(by=\"age_group\").customer_id.nunique().reset_index()\n",
        "byage_df.rename(columns={\n",
        "    \"customer_id\": \"customer_count\"\n",
        "}, inplace=True)\n",
        "byage_df\n",
        "byage_df['age_group'] = pd.Categorical(byage_df['age_group'], [\"Youth\", \"Adults\", \"Seniors\"])\n",
        "plt.figure(figsize=(10, 5))\n",
        "colors_ = [\"#D3D3D3\", \"#72BCD4\", \"#D3D3D3\", \"#D3D3D3\", \"#D3D3D3\"]\n",
        "\n",
        "sns.barplot(\n",
        "    y=\"customer_count\",\n",
        "    x=\"age_group\",\n",
        "    data=byage_df.sort_values(by=\"age_group\", ascending=False),\n",
        "    palette=colors_\n",
        ")\n",
        "plt.title(\"Number of Customer by Age\", loc=\"center\", fontsize=15)\n",
        "plt.ylabel(None)\n",
        "plt.xlabel(None)\n",
        "plt.tick_params(axis='x', labelsize=12)\n",
        "plt.show()"
      ],
      "metadata": {
        "id": "K0gYdLnrcooC"
      },
      "execution_count": null,
      "outputs": []
    },
    {
      "cell_type": "code",
      "source": [
        "# Berdasarkan states\n",
        "bystate_df = all_df.groupby(by=\"state\").customer_id.nunique().reset_index()\n",
        "bystate_df.rename(columns={\n",
        "    \"customer_id\": \"customer_count\"\n",
        "}, inplace=True)\n",
        "bystate_df\n",
        "plt.figure(figsize=(10, 5))\n",
        "colors_ = [\"#72BCD4\", \"#D3D3D3\", \"#D3D3D3\", \"#D3D3D3\", \"#D3D3D3\", \"#D3D3D3\", \"#D3D3D3\", \"#D3D3D3\"]\n",
        "sns.barplot(\n",
        "    x=\"customer_count\",\n",
        "    y=\"state\",\n",
        "    data=bystate_df.sort_values(by=\"customer_count\", ascending=False),\n",
        "    palette=colors_\n",
        ")\n",
        "plt.title(\"Number of Customer by States\", loc=\"center\", fontsize=15)\n",
        "plt.ylabel(None)\n",
        "plt.xlabel(None)\n",
        "plt.tick_params(axis='y', labelsize=12)\n",
        "plt.show()"
      ],
      "metadata": {
        "id": "3K_ECEt1c21n"
      },
      "execution_count": null,
      "outputs": []
    },
    {
      "cell_type": "code",
      "source": [
        "# RFM Analysis\n",
        "# Recency: parameter yang digunakan untuk melihat kapan terakhir seorang pelanggan melakukan transaksi.\n",
        "# Frequency: parameter ini digunakan untuk mengidentifikasi seberapa sering seorang pelanggan melakukan transaksi.\n",
        "# Monetary: parameter terakhir ini digunakan untuk mengidentifikasi seberapa besar revenue yang berasal dari pelanggan tersebut.\n",
        "rfm_df = all_df.groupby(by=\"customer_id\", as_index=False).agg({\n",
        "    \"order_date\": \"max\", # mengambil tanggal order terakhir\n",
        "    \"order_id\": \"nunique\", # menghitung jumlah order\n",
        "    \"total_price\": \"sum\" # menghitung jumlah revenue yang dihasilkan\n",
        "})\n",
        "rfm_df.columns = [\"customer_id\", \"max_order_timestamp\", \"frequency\", \"monetary\"]\n",
        "\n",
        "# menghitung kapan terakhir pelanggan melakukan transaksi (hari)\n",
        "rfm_df[\"max_order_timestamp\"] = rfm_df[\"max_order_timestamp\"].dt.date\n",
        "recent_date = orders_df[\"order_date\"].dt.date.max()\n",
        "rfm_df[\"recency\"] = rfm_df[\"max_order_timestamp\"].apply(lambda x: (recent_date - x).days)\n",
        "\n",
        "rfm_df.drop(\"max_order_timestamp\", axis=1, inplace=True)\n",
        "rfm_df.head()"
      ],
      "metadata": {
        "id": "FLGVGbTFeP2R"
      },
      "execution_count": null,
      "outputs": []
    },
    {
      "cell_type": "code",
      "source": [
        "# mengidentifikasi best customer berdasarkan parameter frequency, monetary, dan recancy\n",
        "fig, ax = plt.subplots(nrows=1, ncols=3, figsize=(30, 6))\n",
        "\n",
        "colors = [\"#72BCD4\", \"#72BCD4\", \"#72BCD4\", \"#72BCD4\", \"#72BCD4\"]\n",
        "\n",
        "sns.barplot(y=\"recency\", x=\"customer_id\", data=rfm_df.sort_values(by=\"recency\", ascending=True).head(5), palette=colors, ax=ax[0])\n",
        "ax[0].set_ylabel(None)\n",
        "ax[0].set_xlabel(None)\n",
        "ax[0].set_title(\"By Recency (days)\", loc=\"center\", fontsize=18)\n",
        "ax[0].tick_params(axis ='x', labelsize=15)\n",
        "\n",
        "sns.barplot(y=\"frequency\", x=\"customer_id\", data=rfm_df.sort_values(by=\"frequency\", ascending=False).head(5), palette=colors, ax=ax[1])\n",
        "ax[1].set_ylabel(None)\n",
        "ax[1].set_xlabel(None)\n",
        "ax[1].set_title(\"By Frequency\", loc=\"center\", fontsize=18)\n",
        "ax[1].tick_params(axis='x', labelsize=15)\n",
        "\n",
        "sns.barplot(y=\"monetary\", x=\"customer_id\", data=rfm_df.sort_values(by=\"monetary\", ascending=False).head(5), palette=colors, ax=ax[2])\n",
        "ax[2].set_ylabel(None)\n",
        "ax[2].set_xlabel(None)\n",
        "ax[2].set_title(\"By Monetary\", loc=\"center\", fontsize=18)\n",
        "ax[2].tick_params(axis='x', labelsize=15)\n",
        "\n",
        "plt.suptitle(\"Best Customer Based on RFM Parameters (customer_id)\", fontsize=20)\n",
        "plt.show()"
      ],
      "metadata": {
        "colab": {
          "base_uri": "https://localhost:8080/",
          "height": 316
        },
        "id": "-SUfz4Fmeut-",
        "outputId": "64e8729a-5986-4c6c-ead2-327a811bd298"
      },
      "execution_count": null,
      "outputs": [
        {
          "output_type": "display_data",
          "data": {
            "text/plain": [
              "<Figure size 3000x600 with 3 Axes>"
            ],
            "image/png": "[encoded data removed]"
          },
          "metadata": {}
        }
      ]
    },
    {
      "cell_type": "code",
      "source": [
        "all_df.to_csv(\"all_data.csv\", index=False)"
      ],
      "metadata": {
        "id": "a6og7M3kPsli"
      },
      "execution_count": null,
      "outputs": []
    }
  ]
}